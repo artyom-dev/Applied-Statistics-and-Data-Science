{
 "cells": [
  {
   "cell_type": "code",
   "execution_count": 124,
   "metadata": {},
   "outputs": [
    {
     "name": "stdout",
     "output_type": "stream",
     "text": [
      "          \n",
      "          *\n",
      "         * *\n",
      "        * * *\n",
      "       * * * *\n",
      "      * * * * *\n",
      "     * * * * * *\n",
      "    * * * * * * *\n",
      "   * * * * * * * *\n",
      "    * * * * * * *  \n",
      "    * * * * * * *  \n",
      "    * * * * * * *  \n",
      "None\n"
     ]
    }
   ],
   "source": [
    "def tree(n):\n",
    "    for i in range(0, int(n)):\n",
    "        print((n-i) * \" \", \" *\" * i)\n",
    "    if n % 2 == 0:\n",
    "        for j in range(0, int(n/2 - 1)):\n",
    "            print(\" \" * 2, int(n - 2) * \" *\", \" \")\n",
    "    else:\n",
    "        for k in range(0, int(n/2 - 1)):\n",
    "            print(\" \" * 2, int(n - 2) * \" *\", \" \")\n",
    "print(tree(9))"
   ]
  }
 ],
 "metadata": {
  "kernelspec": {
   "display_name": "Python 3",
   "language": "python",
   "name": "python3"
  },
  "language_info": {
   "codemirror_mode": {
    "name": "ipython",
    "version": 3
   },
   "file_extension": ".py",
   "mimetype": "text/x-python",
   "name": "python",
   "nbconvert_exporter": "python",
   "pygments_lexer": "ipython3",
   "version": "3.7.3"
  }
 },
 "nbformat": 4,
 "nbformat_minor": 2
}
