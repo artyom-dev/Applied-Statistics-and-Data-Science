{
 "cells": [
  {
   "cell_type": "code",
   "execution_count": 11,
   "metadata": {},
   "outputs": [
    {
     "name": "stdout",
     "output_type": "stream",
     "text": [
      "{'Rovio': 27, 'Amazon': 40, 'Microsoft': 38, 'Facebook': 39, 'Linkedin': 48}\n"
     ]
    }
   ],
   "source": [
    "import json\n",
    "f = open(\"C:\\\\Users\\\\Artyom\\\\Desktop\\\\cities.json\")\n",
    "data = json.load(f)\n",
    "# This algorithm calculates how many cities included especial companies.\n",
    "d = {}\n",
    "for city in data:\n",
    "    for company in city[\"company\"]:\n",
    "        comp = company[\"name\"]\n",
    "        if d.get(comp) != None:\n",
    "            d[comp] += 1\n",
    "        else:\n",
    "            d[comp] = 1\n",
    "\n",
    "print(d)\n",
    "        \n",
    "            \n",
    "                   \n",
    "\n",
    "                \n"
   ]
  }
 ],
 "metadata": {
  "kernelspec": {
   "display_name": "Python 3",
   "language": "python",
   "name": "python3"
  },
  "language_info": {
   "codemirror_mode": {
    "name": "ipython",
    "version": 3
   },
   "file_extension": ".py",
   "mimetype": "text/x-python",
   "name": "python",
   "nbconvert_exporter": "python",
   "pygments_lexer": "ipython3",
   "version": "3.7.3"
  }
 },
 "nbformat": 4,
 "nbformat_minor": 2
}
