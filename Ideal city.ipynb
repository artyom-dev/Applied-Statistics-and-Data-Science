{
 "cells": [
  {
   "cell_type": "code",
   "execution_count": 31,
   "metadata": {},
   "outputs": [
    {
     "name": "stdout",
     "output_type": "stream",
     "text": [
      "['EMISON', 'HIGHLAND', 'KONTERRA', 'BYNUM', 'WEDGEWOOD', 'GREENWICH', 'REINERTON', 'BEAULIEU']\n"
     ]
    }
   ],
   "source": [
    "import json\n",
    "f = open(\"C:\\\\Users\\\\Artyom\\\\Desktop\\\\cities.json\")\n",
    "data = json.load(f)\n",
    "# This algorithm choice cities whithout chemicals and gas/oil industry, where locates Linkedin and pubs chain Moto with check less than 600\n",
    "d = []\n",
    "for city in data:\n",
    "    for companies in city[\"company\"]:\n",
    "        if company[\"industry\"] != \"Chemicals\" and \"Gas/Oil\" and company[\"name\"] == \"Linkedin\":\n",
    "            for bars in city[\"bars\"]:\n",
    "                if bars[\"chain\"] == \"Moto\":\n",
    "                    if bars[\"check\"] < 600:\n",
    "                        if city[\"city\"] in d:\n",
    "                            continue\n",
    "                        else:\n",
    "                            d.append(city[\"city\"])\n",
    "                \n",
    "print(d)\n",
    "\n",
    "\n",
    "                   \n",
    "\n",
    "                \n"
   ]
  },
  {
   "cell_type": "code",
   "execution_count": null,
   "metadata": {},
   "outputs": [],
   "source": []
  }
 ],
 "metadata": {
  "kernelspec": {
   "display_name": "Python 3",
   "language": "python",
   "name": "python3"
  },
  "language_info": {
   "codemirror_mode": {
    "name": "ipython",
    "version": 3
   },
   "file_extension": ".py",
   "mimetype": "text/x-python",
   "name": "python",
   "nbconvert_exporter": "python",
   "pygments_lexer": "ipython3",
   "version": "3.7.3"
  }
 },
 "nbformat": 4,
 "nbformat_minor": 2
}
